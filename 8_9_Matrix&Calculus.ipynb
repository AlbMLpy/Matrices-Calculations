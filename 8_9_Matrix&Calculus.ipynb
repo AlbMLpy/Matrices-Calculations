{
 "cells": [
  {
   "cell_type": "code",
   "execution_count": 1,
   "metadata": {},
   "outputs": [],
   "source": [
    "import numpy as np"
   ]
  },
  {
   "cell_type": "markdown",
   "metadata": {},
   "source": [
    "## Task 8.9 "
   ]
  },
  {
   "cell_type": "markdown",
   "metadata": {},
   "source": [
    "#### Matrix for illustration of 5x5 size"
   ]
  },
  {
   "cell_type": "code",
   "execution_count": 2,
   "metadata": {},
   "outputs": [
    {
     "name": "stdout",
     "output_type": "stream",
     "text": [
      "5x5 Matrix: \n",
      "\n",
      " [[1.         0.5        0.33333333 0.25       0.2       ]\n",
      " [0.5        0.33333333 0.25       0.2        0.16666667]\n",
      " [0.33333333 0.25       0.2        0.16666667 0.14285714]\n",
      " [0.25       0.2        0.16666667 0.14285714 0.125     ]\n",
      " [0.2        0.16666667 0.14285714 0.125      0.11111111]]\n"
     ]
    }
   ],
   "source": [
    "n = 5\n",
    "example = np.fromfunction(lambda i, j: 1 / (i + j + 1),\n",
    "                      (n, n),\n",
    "                      dtype=np.float64\n",
    ")\n",
    "print(f'5x5 Matrix: \\n\\n {example}')"
   ]
  },
  {
   "cell_type": "markdown",
   "metadata": {},
   "source": [
    "#### Matrix from the task of 13x13 size"
   ]
  },
  {
   "cell_type": "code",
   "execution_count": 3,
   "metadata": {},
   "outputs": [],
   "source": [
    "n = 13\n",
    "mtx = np.fromfunction(lambda i, j: 1 / (i + j + 1),\n",
    "                      (n, n),\n",
    "                      dtype=np.float64\n",
    ")"
   ]
  },
  {
   "cell_type": "markdown",
   "metadata": {},
   "source": [
    "### Gram-Schmidt process (Modified)"
   ]
  },
  {
   "cell_type": "code",
   "execution_count": 4,
   "metadata": {},
   "outputs": [],
   "source": [
    "def gram_schmidt(mtx):\n",
    "    \"\"\"\n",
    "    This function makes rows of 'mtx' orthonormal using Gram - Schmidt Algorithm;\n",
    "    'mtx' must be numpy.ndarray\n",
    "    \"\"\"\n",
    "    try:\n",
    "        if not isinstance(mtx, np.ndarray):\n",
    "            raise NameError('Bad type')\n",
    "    except NameError:\n",
    "        raise\n",
    "        \n",
    "    for i in range(mtx.shape[0]):\n",
    "        for j in range(i):\n",
    "            mtx[i] -= np.dot(mtx[j], mtx[i]) * mtx[j]\n",
    "        mtx[i] /= np.linalg.norm(mtx[i])\n",
    "        \n",
    "    return mtx"
   ]
  },
  {
   "cell_type": "markdown",
   "metadata": {},
   "source": [
    "#### Results on task matrix:"
   ]
  },
  {
   "cell_type": "code",
   "execution_count": 5,
   "metadata": {},
   "outputs": [
    {
     "name": "stdout",
     "output_type": "stream",
     "text": [
      "Error in Orthogonalization (||Q*Q - I||) = 0.8760488897454903\n",
      "\n",
      "Dot product of vectors: 1 and 1 : 1.0\n",
      "Dot product of vectors: 1 and 2 : -4.666406150377611e-16\n",
      "Dot product of vectors: 1 and 3 : 1.2540316007836338e-14\n",
      "Dot product of vectors: 1 and 4 : -2.0161997071888038e-13\n",
      "Dot product of vectors: 1 and 5 : 1.1720520387559219e-12\n",
      "Dot product of vectors: 1 and 6 : 2.4417558253109206e-11\n",
      "Dot product of vectors: 1 and 7 : -9.514777195296364e-10\n",
      "Dot product of vectors: 1 and 8 : 1.8927112953315284e-08\n",
      "Dot product of vectors: 1 and 9 : -2.1594636106375686e-07\n",
      "Dot product of vectors: 1 and 10 : -2.183694383995835e-06\n",
      "Dot product of vectors: 1 and 11 : 0.00029928428061603944\n",
      "Dot product of vectors: 1 and 12 : -0.02101480710248148\n",
      "Dot product of vectors: 1 and 13 : 0.5763851335640364\n"
     ]
    }
   ],
   "source": [
    "gram_schmidt(mtx)\n",
    "qqt = mtx @ mtx.T\n",
    "error = np.linalg.norm(qqt - np.eye(mtx.shape[0], mtx.shape[1]), ord=2)\n",
    "print(f'Error in Orthogonalization (||Q*Q - I||) = {error}\\n')\n",
    "for i in range(mtx.shape[0]):\n",
    "    print(f'Dot product of vectors: 1 and {i + 1} : {np.dot(mtx[0], mtx[i])}')"
   ]
  },
  {
   "cell_type": "markdown",
   "metadata": {},
   "source": [
    "### Let`s do Othogonalization again:"
   ]
  },
  {
   "cell_type": "code",
   "execution_count": 6,
   "metadata": {},
   "outputs": [
    {
     "name": "stdout",
     "output_type": "stream",
     "text": [
      "Error in Orthogonalization (||Q*Q - I||) = 5.10956120684755e-16\n",
      "\n",
      "Dot product of vectors: 1 and 1 : 1.0\n",
      "Dot product of vectors: 1 and 2 : -5.724587470723463e-17\n",
      "Dot product of vectors: 1 and 3 : 1.734723475976807e-17\n",
      "Dot product of vectors: 1 and 4 : 2.0816681711721685e-17\n",
      "Dot product of vectors: 1 and 5 : -5.204170427930421e-17\n",
      "Dot product of vectors: 1 and 6 : -3.8163916471489756e-17\n",
      "Dot product of vectors: 1 and 7 : 0.0\n",
      "Dot product of vectors: 1 and 8 : -2.42861286636753e-17\n",
      "Dot product of vectors: 1 and 9 : -3.469446951953614e-18\n",
      "Dot product of vectors: 1 and 10 : -1.0408340855860843e-17\n",
      "Dot product of vectors: 1 and 11 : 3.122502256758253e-17\n",
      "Dot product of vectors: 1 and 12 : 2.5153490401663703e-17\n",
      "Dot product of vectors: 1 and 13 : -9.172350379227368e-17\n"
     ]
    }
   ],
   "source": [
    "gram_schmidt(mtx)\n",
    "qqt = mtx @ mtx.T\n",
    "error = np.linalg.norm(qqt - np.eye(mtx.shape[0], mtx.shape[1]), ord=2)\n",
    "print(f'Error in Orthogonalization (||Q*Q - I||) = {error}\\n')\n",
    "for i in range(mtx.shape[0]):\n",
    "    print(f'Dot product of vectors: 1 and {i + 1} : {np.dot(mtx[0], mtx[i])}')"
   ]
  },
  {
   "cell_type": "markdown",
   "metadata": {},
   "source": [
    "#### Some Other Examples:"
   ]
  },
  {
   "cell_type": "code",
   "execution_count": 7,
   "metadata": {},
   "outputs": [
    {
     "name": "stdout",
     "output_type": "stream",
     "text": [
      "[[1. 2. 3.]\n",
      " [1. 3. 2.]\n",
      " [1. 1. 2.]]\n",
      "Error in Orthogonalization (||Q*Q - I||) = 5.900914567056208e-16\n",
      "Dot product of vectors: 1 and 1 : 1.0\n",
      "Dot product of vectors: 1 and 2 : -2.220446049250313e-16\n",
      "Dot product of vectors: 1 and 3 : -3.608224830031759e-16\n"
     ]
    }
   ],
   "source": [
    "check1 = np.array([[1.0, 2, 3], [1, 3, 2], [1, 1, 2]])\n",
    "print(check1)\n",
    "\n",
    "gram_schmidt(check1)\n",
    "qqt = check1 @ check1.T\n",
    "error = np.linalg.norm(qqt - np.eye(check1.shape[0], check1.shape[1]), ord=2)\n",
    "print(f'Error in Orthogonalization (||Q*Q - I||) = {error}')\n",
    "for i in range(check1.shape[0]):\n",
    "    print(f'Dot product of vectors: 1 and {i + 1} : {np.dot(check1[0], check1[i])}')"
   ]
  },
  {
   "cell_type": "markdown",
   "metadata": {},
   "source": [
    "#### Random Matrix 1000x1000"
   ]
  },
  {
   "cell_type": "code",
   "execution_count": 8,
   "metadata": {},
   "outputs": [
    {
     "name": "stdout",
     "output_type": "stream",
     "text": [
      "Error in Orthogonalization (||Q*Q - I||) = 3.398053768003163e-13\n"
     ]
    }
   ],
   "source": [
    "check2 = np.random.rand(1000, 1000)\n",
    "\n",
    "gram_schmidt(check2)\n",
    "qqt = check2 @ check2.T\n",
    "error = np.linalg.norm(qqt - np.eye(check2.shape[0], check2.shape[1]), ord=2)\n",
    "print(f'Error in Orthogonalization (||Q*Q - I||) = {error}')"
   ]
  },
  {
   "cell_type": "code",
   "execution_count": null,
   "metadata": {},
   "outputs": [],
   "source": []
  }
 ],
 "metadata": {
  "kernelspec": {
   "display_name": "Python 3",
   "language": "python",
   "name": "python3"
  },
  "language_info": {
   "codemirror_mode": {
    "name": "ipython",
    "version": 3
   },
   "file_extension": ".py",
   "mimetype": "text/x-python",
   "name": "python",
   "nbconvert_exporter": "python",
   "pygments_lexer": "ipython3",
   "version": "3.7.4"
  }
 },
 "nbformat": 4,
 "nbformat_minor": 4
}
