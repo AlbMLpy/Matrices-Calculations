{
 "cells": [
  {
   "cell_type": "code",
   "execution_count": 8,
   "metadata": {},
   "outputs": [],
   "source": [
    "import numpy as np\n",
    "import scipy"
   ]
  },
  {
   "cell_type": "markdown",
   "metadata": {},
   "source": [
    "# Matrix"
   ]
  },
  {
   "cell_type": "code",
   "execution_count": 119,
   "metadata": {},
   "outputs": [],
   "source": [
    "mtx = np.array(\n",
    "    [\n",
    "        [0.5, 1.0, 0.0, 0.0, 0.0],\n",
    "        [0.0, 0.5, 1.0, 0.0, 0.0],\n",
    "        [0.0, 0.0, 0.5, 1.0, 0.0],\n",
    "        [0.0, 0.0, 0.0, 0.5, 1.0],\n",
    "        [0.0, 0.0, 0.0, 0.0, 0.5]\n",
    "    ]\n",
    ")\n",
    "b = np.array([0.0, 0.0, 0.0, 0.0, 1.0])"
   ]
  },
  {
   "cell_type": "code",
   "execution_count": 120,
   "metadata": {},
   "outputs": [
    {
     "data": {
      "text/plain": [
       "array([[0.5, 1. , 0. , 0. , 0. ],\n",
       "       [0. , 0.5, 1. , 0. , 0. ],\n",
       "       [0. , 0. , 0.5, 1. , 0. ],\n",
       "       [0. , 0. , 0. , 0.5, 1. ],\n",
       "       [0. , 0. , 0. , 0. , 0.5]])"
      ]
     },
     "execution_count": 120,
     "metadata": {},
     "output_type": "execute_result"
    }
   ],
   "source": [
    "mtx"
   ]
  },
  {
   "cell_type": "markdown",
   "metadata": {},
   "source": [
    "# Right part"
   ]
  },
  {
   "cell_type": "code",
   "execution_count": 121,
   "metadata": {},
   "outputs": [
    {
     "data": {
      "text/plain": [
       "array([0., 0., 0., 0., 1.])"
      ]
     },
     "execution_count": 121,
     "metadata": {},
     "output_type": "execute_result"
    }
   ],
   "source": [
    "b"
   ]
  },
  {
   "cell_type": "code",
   "execution_count": 122,
   "metadata": {},
   "outputs": [],
   "source": [
    "class gmres_counter(object):\n",
    "    def __init__(self, disp=True):\n",
    "        self._disp = disp\n",
    "        self.niter = 0\n",
    "    def __call__(self, rk=None):\n",
    "        self.niter += 1\n",
    "        if self._disp:\n",
    "            print('iter %3i\\trk = %s' % (self.niter, str(rk)))\n",
    "\n",
    "counter = gmres_counter()            "
   ]
  },
  {
   "cell_type": "markdown",
   "metadata": {},
   "source": [
    "# Solution with iterations"
   ]
  },
  {
   "cell_type": "code",
   "execution_count": 123,
   "metadata": {},
   "outputs": [
    {
     "name": "stdout",
     "output_type": "stream",
     "text": [
      "iter   1\trk = 0.8944271909999159\n",
      "iter   2\trk = 0.8728715609439694\n",
      "iter   3\trk = 0.8677218312746245\n",
      "iter   4\trk = 0.8664485777182116\n",
      "iter   5\trk = 0.0\n"
     ]
    }
   ],
   "source": [
    "x = scipy.sparse.linalg.gmres(mtx, b, callback=counter)"
   ]
  },
  {
   "cell_type": "code",
   "execution_count": 124,
   "metadata": {},
   "outputs": [
    {
     "data": {
      "text/plain": [
       "2.08119816510609"
      ]
     },
     "execution_count": 124,
     "metadata": {},
     "output_type": "execute_result"
    }
   ],
   "source": [
    "scipy.linalg.norm(mtx, ord=2)**2"
   ]
  },
  {
   "cell_type": "code",
   "execution_count": 125,
   "metadata": {},
   "outputs": [
    {
     "data": {
      "text/plain": [
       "array([0., 0., 0., 0., 1.])"
      ]
     },
     "execution_count": 125,
     "metadata": {},
     "output_type": "execute_result"
    }
   ],
   "source": [
    "mtx@x[0]"
   ]
  },
  {
   "cell_type": "markdown",
   "metadata": {},
   "source": [
    "# Find eigen values"
   ]
  },
  {
   "cell_type": "code",
   "execution_count": 126,
   "metadata": {},
   "outputs": [
    {
     "data": {
      "text/plain": [
       "(array([0.5+0.j, 0.5+0.j, 0.5+0.j, 0.5+0.j, 0.5+0.j]),\n",
       " array([[ 1.00000000e+00, -1.00000000e+00,  1.00000000e+00,\n",
       "         -1.00000000e+00,  1.00000000e+00],\n",
       "        [ 0.00000000e+00,  1.11022302e-16, -1.11022302e-16,\n",
       "          1.11022302e-16, -1.11022302e-16],\n",
       "        [ 0.00000000e+00,  0.00000000e+00,  1.23259516e-32,\n",
       "         -1.23259516e-32,  1.23259516e-32],\n",
       "        [ 0.00000000e+00,  0.00000000e+00,  0.00000000e+00,\n",
       "          1.36845553e-48, -1.36845553e-48],\n",
       "        [ 0.00000000e+00,  0.00000000e+00,  0.00000000e+00,\n",
       "          0.00000000e+00,  1.51929084e-64]]))"
      ]
     },
     "execution_count": 126,
     "metadata": {},
     "output_type": "execute_result"
    }
   ],
   "source": [
    "scipy.linalg.eig(mtx)"
   ]
  },
  {
   "cell_type": "markdown",
   "metadata": {},
   "source": [
    "# Check for normal"
   ]
  },
  {
   "cell_type": "code",
   "execution_count": 127,
   "metadata": {},
   "outputs": [
    {
     "data": {
      "text/plain": [
       "array([[ 1.,  0.,  0.,  0.,  0.],\n",
       "       [ 0.,  0.,  0.,  0.,  0.],\n",
       "       [ 0.,  0.,  0.,  0.,  0.],\n",
       "       [ 0.,  0.,  0.,  0.,  0.],\n",
       "       [ 0.,  0.,  0.,  0., -1.]])"
      ]
     },
     "execution_count": 127,
     "metadata": {},
     "output_type": "execute_result"
    }
   ],
   "source": [
    "mtx@mtx.T - mtx.T@mtx"
   ]
  },
  {
   "cell_type": "code",
   "execution_count": null,
   "metadata": {},
   "outputs": [],
   "source": []
  }
 ],
 "metadata": {
  "kernelspec": {
   "display_name": "Python 3",
   "language": "python",
   "name": "python3"
  },
  "language_info": {
   "codemirror_mode": {
    "name": "ipython",
    "version": 3
   },
   "file_extension": ".py",
   "mimetype": "text/x-python",
   "name": "python",
   "nbconvert_exporter": "python",
   "pygments_lexer": "ipython3",
   "version": "3.7.4"
  }
 },
 "nbformat": 4,
 "nbformat_minor": 4
}
